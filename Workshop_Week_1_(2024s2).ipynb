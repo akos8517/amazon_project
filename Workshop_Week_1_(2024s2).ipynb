{
  "cells": [
    {
      "cell_type": "markdown",
      "metadata": {
        "id": "view-in-github",
        "colab_type": "text"
      },
      "source": [
        "<a href=\"https://colab.research.google.com/github/akos8517/amazon_project/blob/main/Workshop_Week_1_(2024s2).ipynb\" target=\"_parent\"><img src=\"https://colab.research.google.com/assets/colab-badge.svg\" alt=\"Open In Colab\"/></a>"
      ]
    },
    {
      "cell_type": "markdown",
      "metadata": {
        "id": "GvYDBuo9s-eB"
      },
      "source": [
        "# COMP2200/COMP6200 Week 1 Practical"
      ]
    },
    {
      "cell_type": "markdown",
      "metadata": {
        "id": "O9vuhDxus-eD"
      },
      "source": [
        "The goal of this week's practical is to get you started using Python, Jupyter Notebooks, and Git, three tools that you will use through the semester in your work.  \n",
        "\n",
        "**Python** is our language of choice in COMP2200/COMP6200. If you do not have any experience of using Python, you need to learn basic Python coding.\n",
        "\n",
        "You are looking at a **Jupyter Notebook**, it is a document that mixes text, code and the output of the code. A lot of your work will be creating notebooks like this to present your analysis.  \n",
        "\n",
        "**Git** is a distributed version control system (DVCS), you will use it to keep track of your work and ensure that you have a backup copy of what you are doing. You should have checked this notebook out of **Github** using Git. Your task this week is to complete some programming work in this worksheet and commit your changes to your own Bitbucket repository."
      ]
    },
    {
      "cell_type": "markdown",
      "metadata": {
        "id": "vnwrE9CMs-eE"
      },
      "source": [
        "## Python Basics"
      ]
    },
    {
      "cell_type": "markdown",
      "metadata": {
        "id": "N_bswqSEs-eF"
      },
      "source": [
        "Your task this week is to complete some basic programming tasks with Python in this worksheet.  There are questions below with a space for you to write code to achieve the given outcomes. Write the code, test it, and when you are done, submit your work as described at the end of the notebook.\n",
        "\n",
        "The tasks aren't meant to be complicated Python problems, just some simple tasks to get you started with this process.  "
      ]
    },
    {
      "cell_type": "markdown",
      "metadata": {
        "id": "YGqa1a9Fs-eF"
      },
      "source": [
        "### Examples - basics\n",
        "- How to define a variable\n",
        "- How to perform some basic arithmatic operation\n",
        "- How to use a constant"
      ]
    },
    {
      "cell_type": "code",
      "execution_count": null,
      "metadata": {
        "id": "votcKBz3s-eF",
        "outputId": "12475329-d18a-497b-c76b-537c43aebd65"
      },
      "outputs": [
        {
          "name": "stdout",
          "output_type": "stream",
          "text": [
            "The area of the circle is:  78.53981633974483\n"
          ]
        }
      ],
      "source": [
        "# Let's show an example of calculating the area of a circle\n",
        "\n",
        "# Define the radius\n",
        "radius = 5\n",
        "\n",
        "# Then we can calculate the area.\n",
        "# We need to make use of a constant PI (around 3.1415926), which is defined in the module math\n",
        "import math\n",
        "\n",
        "area = math.pi * radius * radius\n",
        "\n",
        "print(\"The area of the circle is: \", area)\n"
      ]
    },
    {
      "cell_type": "markdown",
      "metadata": {
        "id": "gqBsSgMYs-eH"
      },
      "source": [
        "- How to use a built-in function\n",
        "\n",
        "To calculate the the squared radius \"raius*radius\", we could also use the built-in function pow() in the math module."
      ]
    },
    {
      "cell_type": "code",
      "execution_count": null,
      "metadata": {
        "id": "he3UJsDKs-eI",
        "outputId": "52c8c0f3-5420-4fac-84fb-5a5c4fa1b23f"
      },
      "outputs": [
        {
          "name": "stdout",
          "output_type": "stream",
          "text": [
            "The area of the circle is:  78.53981633974483\n"
          ]
        }
      ],
      "source": [
        "# Task 1: Re-calculate the area of the circle above with using the funciton pow().\n",
        "# Read the manual about how to call the function and write your code below and print the result.\n",
        "\n",
        "# write your code here:\n",
        "area1 = math.pi * pow(radius, 2)\n",
        "\n",
        "print(\"The area of the circle is: \", area1)"
      ]
    },
    {
      "cell_type": "markdown",
      "metadata": {
        "id": "9JxlnQVBs-eI"
      },
      "source": [
        "### Examples - control structures\n",
        "- Braching strucutre: if-else\n",
        "- Loop structure: for, while\n",
        "- Boolean values: True/False"
      ]
    },
    {
      "cell_type": "code",
      "execution_count": null,
      "metadata": {
        "id": "sd7bgbXts-eI"
      },
      "outputs": [],
      "source": [
        "# Let's test if a given number is even or odd, we need to use the if-else structure\n",
        "\n",
        "# The built-in input() function can let you input a string.\n",
        "# Let's input an integer number and test if it's even or odd.\n",
        "\n",
        "x = input()\n",
        "\n",
        "# Now x is a string. We need to convert it to an integer.\n",
        "x = int(x)\n",
        "\n",
        "# Now can divid x by 2 to check its parity.\n",
        "if x%2 == 0:\n",
        "    print(\"It's an even number.\")\n",
        "else:\n",
        "    print(\"It's an odd number.\")\n"
      ]
    },
    {
      "cell_type": "code",
      "execution_count": null,
      "metadata": {
        "id": "15akrueEs-eJ",
        "outputId": "acc7a03b-b70a-4ae5-d33b-473a068b2423"
      },
      "outputs": [
        {
          "name": "stdout",
          "output_type": "stream",
          "text": [
            "8\n",
            "It's not a prime number.\n"
          ]
        }
      ],
      "source": [
        "# Now we go further to check if the given number is a prime number of not.\n",
        "# To be a prime number, it cannot be divided by the number less than it. So, simply use the loop structure to test.\n",
        "\n",
        "\n",
        "x = input()\n",
        "\n",
        "# Now x is a string. We need to convert it to an integer.\n",
        "x = int(x)\n",
        "\n",
        "# Now we use a loop to try to divide the number by the numbers less than it.\n",
        "# 0 and 1 are not prime.\n",
        "if x < 2:\n",
        "    print(\"It's not a prime number.\")\n",
        "else:\n",
        "    # 2 is a prime number\n",
        "    if x == 2:\n",
        "        print(\"It's a prime nubmer.\")\n",
        "    else:\n",
        "\n",
        "        # Use a loop to test its factor\n",
        "        # We use the built-in function range(a, b) to generate all the integer numbers between a (included) and b (excluded)\n",
        "        is_prime = True\n",
        "        for i in range(2, x):\n",
        "            # To test if i is a factor for x\n",
        "            if x%i == 0:\n",
        "                is_prime = False\n",
        "                break\n",
        "        if is_prime:\n",
        "            print(\"It's a prime nubmer.\")\n",
        "        else:\n",
        "            print(\"It's not a prime number.\")\n"
      ]
    },
    {
      "cell_type": "markdown",
      "metadata": {
        "id": "HZpnekXEs-eJ"
      },
      "source": [
        "### Example - defining a function\n",
        "- How to define your own function\n",
        "\n",
        "Python is a dynamically typed language so we don't need to declare the type of a variable or declare the return type of a function (although Python 3 introduced optional [type hints](https://docs.python.org/3/library/typing.html)).  Apart from that the idea of writing a function in Python is the same as in Processing or (methods in) Java.\n",
        "\n",
        "Write a function that takes a single string argument and returns the number of words in the string using the code you wrote above to count words."
      ]
    },
    {
      "cell_type": "code",
      "execution_count": null,
      "metadata": {
        "id": "wYiqDBXgs-eJ",
        "outputId": "8bd8f400-cc98-4d13-bef1-58142c4a5352"
      },
      "outputs": [
        {
          "name": "stdout",
          "output_type": "stream",
          "text": [
            "4\n",
            "It's not a prime number.\n"
          ]
        }
      ],
      "source": [
        "# Now, to make things easier for the number primality test, we can make a self-defined function.\n",
        "# We can just simply resue the code above\n",
        "\n",
        "def is_prime(x):\n",
        "    # Now we use a loop to try to divide the number by the numbers less than it.\n",
        "    # 0 and 1 are not prime.\n",
        "    if x < 2:\n",
        "        return False\n",
        "    else:\n",
        "        # 2 is a prime number\n",
        "        if x == 2:\n",
        "            return True\n",
        "        else:\n",
        "            # Use a loop to test its factor\n",
        "            # We use the built-in function range(a, b) to generate all the integer numbers between a (included) and b (excluded)\n",
        "            for i in range(2, x):\n",
        "                # To test if i is a factor for x\n",
        "                if x%i == 0:\n",
        "                    return False\n",
        "            return True\n",
        "\n",
        "# Now, let's try to call this function to test a number\n",
        "\n",
        "x = input()\n",
        "\n",
        "# Now x is a string. We need to convert it to an integer.\n",
        "x = int(x)\n",
        "\n",
        "# Now we can directly call the function we defined before.\n",
        "if is_prime(x):\n",
        "    print(\"It's a prime nubmer.\")\n",
        "else:\n",
        "    print(\"It's not a prime number.\")\n",
        ""
      ]
    },
    {
      "cell_type": "code",
      "execution_count": null,
      "metadata": {
        "id": "a24WF8q4s-eK",
        "outputId": "2b4c6988-c278-4391-d379-3a9bf502b6b1"
      },
      "outputs": [
        {
          "name": "stdout",
          "output_type": "stream",
          "text": [
            "This number is prime.\n"
          ]
        }
      ],
      "source": [
        "# Task 2: Now we want to have a smarter way to perform the primality test.\n",
        "# We can improve the testing process with less computation by an optimisation strategy.\n",
        "# Strategy: You just need to test the factors less than the sqared root of number, i.e., sqrt(x).\n",
        "# The reason is that one of the factors (if any) of the number x must not be greater than sqrt(x).\n",
        "# Your task is to define a new version of the primality testing function is_prime_faster(x).\n",
        "# write your code here:\n",
        "\n",
        "def is_prime_1(x):\n",
        "    if x < 2:\n",
        "        return False\n",
        "    elif x == 2:\n",
        "        return True\n",
        "    else:\n",
        "        nearest_value = math.floor(math.sqrt(x)) + 1\n",
        "\n",
        "        for i in range(2, nearest_value):\n",
        "            if x%i == 0:\n",
        "                return False\n",
        "                break\n",
        "        return True\n",
        "\n",
        "\n",
        "x = input()\n",
        "x = int(x)\n",
        "\n",
        "if is_prime_1(x):\n",
        "    print(\"This number is prime.\")\n",
        "else:\n",
        "    print(\"This is not prime number.\")"
      ]
    },
    {
      "cell_type": "markdown",
      "metadata": {
        "id": "7V9ejeurs-eK"
      },
      "source": [
        "## String Manipulation\n",
        "\n",
        "The next cell defines three strings that you will use for the following group of questions. Note that the first uses single quotes, the second uses double quotes and the third uses three double quotes since it includes newline characters.  These are all valid ways of writing strings in Python and are equivalent."
      ]
    },
    {
      "cell_type": "markdown",
      "metadata": {
        "id": "F6GGDJOts-eK"
      },
      "source": [
        "#### title = 'Data Science'\n",
        "\n",
        "code = \"COMP2200/COMP6200\"\n",
        "\n",
        "description = \"\"\"This unit introduces students to the fundamental techniques and\n",
        "tools of data science, such as the graphical display of data,\n",
        "predictive models, evaluation methodologies, regression,\n",
        "classification and clustering. The unit provides practical\n",
        "experience applying these methods using industry-standard\n",
        "software tools to real-world data sets. Students who have\n",
        "completed this unit will be able to identify which data\n",
        "science methods are most appropriate for a real-world data\n",
        "set, apply these methods to the data set, and interpret the\n",
        "results of the analysis they have performed. \"\"\""
      ]
    },
    {
      "cell_type": "markdown",
      "metadata": {
        "id": "Lf0c_moys-eL"
      },
      "source": [
        "Task 3.\n",
        "\n",
        "Write code to print the length of these strings, i.e., how many words they contain."
      ]
    },
    {
      "cell_type": "code",
      "execution_count": null,
      "metadata": {
        "scrolled": true,
        "id": "m4L5AxYJs-eL",
        "outputId": "26534c91-e571-4f48-a378-4a4b642536bd"
      },
      "outputs": [
        {
          "name": "stdout",
          "output_type": "stream",
          "text": [
            "The length of the title is: 12\n",
            "The length of the code is: 17\n",
            "The length of the description is: 587\n"
          ]
        }
      ],
      "source": [
        "#write your code here: print the lenght of these strings\n",
        "title = 'Data Science'\n",
        "print(\"The length of the title is: \" + str(len(title)))\n",
        "\n",
        "code = \"COMP2200/COMp6200\"\n",
        "print(\"The length of the code is: \" + str(len(code)))\n",
        "\n",
        "description = \"\"\"This unit introduces students to the fundamental techniques and\n",
        "tools of data science, such as the graphical display of data,\n",
        "predictive models, evaluation methodologies, regression,\n",
        "classification and clustering. The unit provides practical\n",
        "experience applying these methods using industry-standard\n",
        "software tools to real-world data sets. Students who have\n",
        "completed this unit will be able to identify which data\n",
        "science methods are most appropriate for a real-world data\n",
        "set, apply these methods to the data set, and interpret the\n",
        "results of the analysis they have performed. \"\"\"\n",
        "\n",
        "print(\"The length of the description is: \" + str(len(description)))"
      ]
    },
    {
      "cell_type": "markdown",
      "metadata": {
        "id": "M9lZuBxEs-eL"
      },
      "source": [
        "Write code to create a new string in a variable 'summary' that contains the code, title and the first 20 characters of the description, with a ':' character between each one (ie 'COMP2200/COMP6200:Data Science:This unit...'"
      ]
    },
    {
      "cell_type": "code",
      "execution_count": null,
      "metadata": {
        "id": "sEOI94aQs-eL",
        "outputId": "a6ff64f4-3ef5-4241-c1df-726080d65717"
      },
      "outputs": [
        {
          "name": "stdout",
          "output_type": "stream",
          "text": [
            "COMP2200/COMp6200:Data Science:This unit introduces\n"
          ]
        }
      ],
      "source": [
        "# write your code here: create a new string summary and then print it\n",
        "summary = code + \":\" + title + \":\" + description[0:20]\n",
        "print(summary)"
      ]
    },
    {
      "cell_type": "markdown",
      "metadata": {
        "id": "Ge29_l01s-eM"
      },
      "source": [
        "Write code to find the number of words in the description.  Hint, this is easy in Python since strings support the [split method](https://docs.python.org/3.6/library/stdtypes.html#str.split) that returns a list of strings after splitting on whitespace (or another character if you wish).   Try split on the string, then find out how many strings are in the resulting list."
      ]
    },
    {
      "cell_type": "code",
      "execution_count": null,
      "metadata": {
        "scrolled": false,
        "id": "HQZK67Pns-eM",
        "outputId": "b24cbb47-3e71-41e9-fa40-aba4126a002d"
      },
      "outputs": [
        {
          "name": "stdout",
          "output_type": "stream",
          "text": [
            "85\n"
          ]
        }
      ],
      "source": [
        "#write your code here\n",
        "print(len(description.split(\" \")))"
      ]
    },
    {
      "cell_type": "markdown",
      "metadata": {
        "id": "aovprhBls-eM"
      },
      "source": [
        "## Data generation and plotting\n",
        "\n",
        "Just to give you a taste of some of the capabilities of Jupyter notebooks and Python we will look at a very simple example of data handling and plotting.  First you need to import some libraries that will allow you to do this: `matplotlib` does the plotting. You also need to use the random module to generate random numbers.\n",
        "\n",
        "- How to use an array\n",
        "- the random module\n",
        "- Gaussian distribution\n",
        "- Pyhton plotting"
      ]
    },
    {
      "cell_type": "code",
      "execution_count": null,
      "metadata": {
        "id": "KypdySgAs-eM"
      },
      "outputs": [],
      "source": [
        "import random"
      ]
    },
    {
      "cell_type": "markdown",
      "metadata": {
        "id": "A4EdYtmKs-eN"
      },
      "source": [
        "The Gaussian or Normal disbribution is often used in data science for data distribution modelling and data analytics. The Python random module has the function gauss() that draws a random number from a Gaussian distribition. Two parameter $\\mu$ and $\\sigma$ should be given to determine a Gaussian distribution."
      ]
    },
    {
      "cell_type": "code",
      "execution_count": null,
      "metadata": {
        "id": "LQoSShhKs-eN",
        "outputId": "324170f0-e3a2-4802-befb-bf857bedde76"
      },
      "outputs": [
        {
          "name": "stdout",
          "output_type": "stream",
          "text": [
            "1.4774785157818007\n",
            "[3.9382744715212734, 1.1459855794223535, -0.33466904691661964, -2.65926180162888, 2.9631745411120263, -0.6456969367532899, 8.930807213758179, 2.525706465297843, 0.7767386869308457, -1.2996036625176148, 0.44124018300775386, -1.0314096126588825, 2.9223712485567717, -5.893255572542497, 7.115349409818994, -0.9243668316855825, 2.989435913751122, 1.4702238712360973, -3.5410235744254823, 4.990670636212493, -0.35527490911262527, -5.197406580139417, 2.528153548718955, 5.877725800821714, -1.4889979723238103, -4.693442395992448, -0.3835970018426413, -4.556982506163179, 2.5221635701088205, 2.370544587654644, -8.665829138964614, -5.077888020374325, -1.5889672074182757, 0.818891844821283, -4.563944028398502, -1.9591897227796526, -7.238939266325599, 0.5434877603264603, -5.240810535759312, -0.01734238315914804, 5.34450968543907, 0.8874032233128535, 7.440994476983899, -1.3050866622182293, 9.055267121297113, -2.033934302376644, -1.4912126361437519, -3.8221673084011822, -1.7139296107884805, 4.3375800592689835, 2.3722379688401922, -1.1983636435397202, -4.976112082641999, 3.425614235276147, 0.8735326177399017, 2.4016845949890575, -6.2198807760159855, 3.0259717916059605, 1.3147490083959141, -13.551461001810143, -4.715367945858329, -5.5810910864922665, 4.092506047321316, -2.7192234513793383, -0.9967688792618644, 5.668792238977426, 0.8461921009117521, -9.134174694593437, 8.293181364798722, -6.541375554535309, -0.08194373969300434, 0.13817092050570395, -2.2186526104123403, 2.1582572697639253, 3.8797184534180107, -2.6599351002761358, -0.5251508773351957, -6.901929948305811, 1.6201446417100887, -2.3528160189229195, 0.22157926862140384, 5.96686394951154, 3.757020067943821, 5.8874719339263315, 3.0484317887211203, 1.876336109032903, -6.403254243341153, -4.076765876590345, 3.7412336776189505, -8.018584627352721, 4.1465510547247595, 6.88035724961242, -8.639422608166328, 2.330458731837612, 0.7379419471803018, -1.869918519348919, 2.579403717564668, -2.9734648767330354, 3.450209943326322, 0.3938897876272362]\n"
          ]
        }
      ],
      "source": [
        "# Random draw a number from a Gauassian distribution\n",
        "mu=0\n",
        "sigma=5\n",
        "x = random.gauss(mu, sigma)\n",
        "print(x)\n",
        "\n",
        "# Use a loop to draw a set of 100 such random numbers\n",
        "# x is an array for the generated numbers\n",
        "x=[]\n",
        "for i in range(100):\n",
        "    x.append(random.gauss(mu, sigma))\n",
        "\n",
        "print(x)"
      ]
    },
    {
      "cell_type": "markdown",
      "metadata": {
        "id": "h0orZ0-ns-eN"
      },
      "source": [
        "In terms of the probability density function, we can calculate the probability density for the genrated random number. The probability density function is defined as $p(x)=\\frac{1}{\\sqrt{2\\pi\\sigma^2}}e^{-\\frac{(x-\\mu)^2}{2\\sigma^2}}$."
      ]
    },
    {
      "cell_type": "code",
      "execution_count": null,
      "metadata": {
        "id": "7Gm6ScqLs-eN",
        "outputId": "25a6f445-9bf8-4f57-fa35-53fb7e0cd969"
      },
      "outputs": [
        {
          "name": "stdout",
          "output_type": "stream",
          "text": [
            "0.07978845608028654\n",
            "[0.05850889050191842, 0.07772004273584945, 0.07960992459532215, 0.06926539056160268, 0.06693826429094868, 0.07912590695148575, 0.01618674153784448, 0.07023136248894538, 0.07883147717105986, 0.0771382633644682, 0.07947837526083304, 0.0781087992975795, 0.0672605416297029, 0.039835943528841414, 0.02898605606091475, 0.07843652920286388, 0.06672931033428986, 0.07641260494174981, 0.062091051122672755, 0.048484442115589006, 0.07958729170222176, 0.046484463112972295, 0.0702139933070419, 0.039981850816117735, 0.07632774740527708, 0.0513574907900012, 0.07955398916365398, 0.05267057982712904, 0.07025648744037069, 0.07130662215824762, 0.017768850280207072, 0.047640340813350605, 0.07585946605046656, 0.07872550299814564, 0.052603735348708616, 0.07389242696768734, 0.027975636301810654, 0.07931848903020355, 0.04606516073709386, 0.07978797614099577, 0.04506487678254191, 0.07854165678567616, 0.02636430092101426, 0.0771162334835523, 0.01547802971367457, 0.07345265569120983, 0.07631767255630403, 0.0595728286315238, 0.07523584195340964, 0.05476694496730626, 0.07129516932533704, 0.07752940819013271, 0.048625350209424524, 0.06309756476670764, 0.07858003414521292, 0.07109500317217872, 0.036805249924304125, 0.06643664107293751, 0.07707720132962893, 0.002026959582432166, 0.051146033146484096, 0.0427944011179218, 0.05707731306719348, 0.06882006258517061, 0.07821863116531705, 0.041958235234819924, 0.07865396267606886, 0.015040038619681088, 0.02016284774368332, 0.033905829133115524, 0.07977774156680117, 0.07975799674303259, 0.07230768706011077, 0.0726909828479196, 0.05904704669661706, 0.06926042938669831, 0.07934958083406775, 0.030773258831961196, 0.07570782019109804, 0.07142614429827192, 0.07971014646390187, 0.039146441546799506, 0.06016404035391825, 0.03989026534799151, 0.06625560770802802, 0.07436356390804058, 0.03514019160091845, 0.05722428854053885, 0.060306641868017236, 0.022052475095513443, 0.05657126214732264, 0.030956794783501277, 0.017931991876810528, 0.071575874962714, 0.07892418175334058, 0.07439932937066569, 0.06984736508953386, 0.06685652904571739, 0.06288450942242581, 0.07954125755864823]\n"
          ]
        }
      ],
      "source": [
        "# We can implement the probabiity density function as follows:\n",
        "def pdf(mu, sigma, x):\n",
        "    return math.exp(-0.5*math.pow(x-mu, 2)/pow(sigma, 2))/math.sqrt(2*math.pi*pow(sigma, 2))\n",
        "\n",
        "\n",
        "# The probability density example\n",
        "mu=0\n",
        "sigma=5\n",
        "print(pdf(mu, sigma, 0))\n",
        "\n",
        "\n",
        "# Now we can calculate the probablity density for the random numbers generated above.\n",
        "# You need to ensure that the distribution is the same, i.e., the same mu and sigma.\n",
        "y=[]\n",
        "for i in x:\n",
        "    y.append(pdf(mu, sigma, i))\n",
        "\n",
        "print(y)"
      ]
    },
    {
      "cell_type": "markdown",
      "metadata": {
        "id": "1wD1uTjts-eO"
      },
      "source": [
        "Now we will create a simple plot."
      ]
    },
    {
      "cell_type": "code",
      "execution_count": null,
      "metadata": {
        "id": "w5OBrEuYs-eO"
      },
      "outputs": [],
      "source": [
        "import matplotlib.pyplot as plt\n",
        "%matplotlib inline"
      ]
    },
    {
      "cell_type": "code",
      "execution_count": null,
      "metadata": {
        "id": "8irSEqrns-eO",
        "outputId": "da738cfb-677e-4a38-aa6c-aa96ec8a17b9"
      },
      "outputs": [
        {
          "data": {
            "image/png": "[encoded data removed]",
            "text/plain": [
              "<Figure size 640x480 with 1 Axes>"
            ]
          },
          "metadata": {},
          "output_type": "display_data"
        }
      ],
      "source": [
        "fig, ax = plt.subplots()\n",
        "\n",
        "# Settings\n",
        "ax.set_xlabel('x')\n",
        "ax.set_ylabel('probability density')\n",
        "ax.set_title('Random Numbers from Gaussian Distribution')\n",
        "\n",
        "# Plot the random numbers (X-axis) and their probability density (Y-axis)\n",
        "ax.scatter(x, y)\n",
        "\n",
        "plt.show()"
      ]
    },
    {
      "cell_type": "code",
      "execution_count": null,
      "metadata": {
        "id": "FFJ00EBLs-eP",
        "outputId": "2ab61a58-e46a-41a0-a032-ce931cae647c"
      },
      "outputs": [
        {
          "data": {
            "image/png": "[encoded data removed]",
            "text/plain": [
              "<Figure size 640x480 with 1 Axes>"
            ]
          },
          "metadata": {},
          "output_type": "display_data"
        }
      ],
      "source": [
        "# Task 4. In this task, please change the values mu and sigma to define another Gaussian distribution.\n",
        "# Then, generate 1000 random numbers, calculate their probaiblity density values, and plot as we did in the example above.\n",
        "\n",
        "# Your code here:\n",
        "\n",
        "def pdf(mu, sigma, x):\n",
        "    return math.exp(-0.5*math.pow(x-mu, 2)/pow(sigma, 2))/math.sqrt(2*math.pi*pow(sigma, 2))\n",
        "\n",
        "mu = 3\n",
        "sigma = 2\n",
        "\n",
        "x_list = []\n",
        "y_list = []\n",
        "for i in range(0, 1000):\n",
        "    x = random.gauss(mu,sigma)\n",
        "    x_list.append(x)\n",
        "\n",
        "    y = pdf(mu, sigma, x)\n",
        "    y_list.append(y)\n",
        "\n",
        "fig, ax = plt.subplots()\n",
        "\n",
        "# Settings\n",
        "ax.set_xlabel('x')\n",
        "ax.set_ylabel('probability density')\n",
        "ax.set_title('Random Numbers from Gaussian Distribution')\n",
        "\n",
        "# Plot the random numbers (X-axis) and their probability density (Y-axis)\n",
        "ax.scatter(x_list, y_list)\n",
        "\n",
        "plt.show()"
      ]
    },
    {
      "cell_type": "markdown",
      "metadata": {
        "id": "nGOS4Uoys-eP"
      },
      "source": [
        "## Checkpoint\n",
        "\n",
        "You got your copy of this notebook by forking and then cloning my Github repository.  Now that you have made some changes you should commit your work with a suitable commit message and push your changes back to your Github repository.  Show your tutor your updated Github repository to get your checkpoint mark."
      ]
    },
    {
      "cell_type": "code",
      "execution_count": null,
      "metadata": {
        "id": "waOpTNf7s-eP"
      },
      "outputs": [],
      "source": []
    }
  ],
  "metadata": {
    "kernelspec": {
      "display_name": "Python 3 (ipykernel)",
      "language": "python",
      "name": "python3"
    },
    "language_info": {
      "codemirror_mode": {
        "name": "ipython",
        "version": 3
      },
      "file_extension": ".py",
      "mimetype": "text/x-python",
      "name": "python",
      "nbconvert_exporter": "python",
      "pygments_lexer": "ipython3",
      "version": "3.11.1"
    },
    "colab": {
      "provenance": [],
      "include_colab_link": true
    }
  },
  "nbformat": 4,
  "nbformat_minor": 0
}